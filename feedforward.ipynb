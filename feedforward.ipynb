{
  "nbformat": 4,
  "nbformat_minor": 0,
  "metadata": {
    "colab": {
      "provenance": [],
      "authorship_tag": "ABX9TyMMOmw4S7zHm8pooCTvjBgp",
      "include_colab_link": true
    },
    "kernelspec": {
      "name": "python3",
      "display_name": "Python 3"
    },
    "language_info": {
      "name": "python"
    }
  },
  "cells": [
    {
      "cell_type": "markdown",
      "metadata": {
        "id": "view-in-github",
        "colab_type": "text"
      },
      "source": [
        "<a href=\"https://colab.research.google.com/github/Gousepasha789/Neural-Networks-Lab/blob/main/feedforward.ipynb\" target=\"_parent\"><img src=\"https://colab.research.google.com/assets/colab-badge.svg\" alt=\"Open In Colab\"/></a>"
      ]
    },
    {
      "cell_type": "code",
      "execution_count": 1,
      "metadata": {
        "colab": {
          "base_uri": "https://localhost:8080/"
        },
        "id": "MHIPmhg_JBW_",
        "outputId": "71cd4019-a027-4a6e-e7aa-fa0fe53e6568"
      },
      "outputs": [
        {
          "output_type": "stream",
          "name": "stdout",
          "text": [
            "[ 2.5031  -1.04185  2.18525]\n"
          ]
        }
      ],
      "source": [
        "# Multi-Layer Neural Network\n",
        "# A simple feedforward neural network with two layers: one hidden layer and one output layer.\n",
        "import numpy as np\n",
        "\n",
        "def relu(x):\n",
        "    return np.maximum(0, x)\n",
        "\n",
        "# Input vector\n",
        "inputs = np.array([1, 2, 3, 2.5])\n",
        "\n",
        "# Weights and biases for the first (hidden) layer\n",
        "weights_hidden = np.array([\n",
        "    [0.2, 0.8, -0.5, 1.0],\n",
        "    [0.5, -0.91, 0.26, -0.5],\n",
        "    [-0.26, -0.27, 0.17, 0.87]\n",
        "])\n",
        "biases_hidden = np.array([2, 3, 0.5])\n",
        "\n",
        "# Weights and biases for the second (output) layer\n",
        "weights_output = np.array([\n",
        "    [0.1, -0.14, 0.5],\n",
        "    [-0.5, 0.12, -0.33],\n",
        "    [0.44, 0.73, -0.13]\n",
        "])\n",
        "biases_output = np.array([1, 2, -0.5])\n",
        "\n",
        "# Calculate output for the hidden layer\n",
        "hidden_layer_output = relu(np.dot(weights_hidden, inputs) + biases_hidden)\n",
        "\n",
        "# Calculate final output\n",
        "final_output = np.dot(weights_output, hidden_layer_output) + biases_output\n",
        "\n",
        "print(final_output)"
      ]
    }
  ]
}