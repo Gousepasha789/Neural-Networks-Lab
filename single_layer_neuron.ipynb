{
  "nbformat": 4,
  "nbformat_minor": 0,
  "metadata": {
    "colab": {
      "provenance": [],
      "authorship_tag": "ABX9TyPo7wnIT4uChG94DfpVTHuh",
      "include_colab_link": true
    },
    "kernelspec": {
      "name": "python3",
      "display_name": "Python 3"
    },
    "language_info": {
      "name": "python"
    }
  },
  "cells": [
    {
      "cell_type": "markdown",
      "metadata": {
        "id": "view-in-github",
        "colab_type": "text"
      },
      "source": [
        "<a href=\"https://colab.research.google.com/github/Gousepasha789/Neural-Networks-Lab/blob/main/single_layer_neuron.ipynb\" target=\"_parent\"><img src=\"https://colab.research.google.com/assets/colab-badge.svg\" alt=\"Open In Colab\"/></a>"
      ]
    },
    {
      "cell_type": "code",
      "execution_count": 1,
      "metadata": {
        "colab": {
          "base_uri": "https://localhost:8080/"
        },
        "id": "lXCfiMXwIksp",
        "outputId": "b3b08412-11c8-4f0d-f8a5-84bc098939ac"
      },
      "outputs": [
        {
          "output_type": "stream",
          "name": "stdout",
          "text": [
            "[4.8   1.21  2.385]\n"
          ]
        }
      ],
      "source": [
        "#Single Layer of Neurons with Activation Function\n",
        "import numpy as np\n",
        "\n",
        "def relu(x):\n",
        "    return np.maximum(0, x)\n",
        "\n",
        "# Inputs to the layer (a single input vector)\n",
        "inputs = np.array([1, 2, 3, 2.5])\n",
        "\n",
        "# Weights for three neurons (each row represents weights for one neuron)\n",
        "weights = np.array([\n",
        "    [0.2, 0.8, -0.5, 1.0],\n",
        "    [0.5, -0.91, 0.26, -0.5],\n",
        "    [-0.26, -0.27, 0.17, 0.87]\n",
        "])\n",
        "\n",
        "# Biases for the neurons\n",
        "biases = np.array([2, 3, 0.5])\n",
        "\n",
        "# Calculate the output for all neurons\n",
        "output = np.dot(weights, inputs) + biases\n",
        "\n",
        "# Apply ReLU activation function\n",
        "output = relu(output)\n",
        "\n",
        "print(output)"
      ]
    }
  ]
}